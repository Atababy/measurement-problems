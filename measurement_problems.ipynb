{
  "nbformat": 4,
  "nbformat_minor": 0,
  "metadata": {
    "colab": {
      "provenance": []
    },
    "kernelspec": {
      "name": "python3",
      "display_name": "Python 3"
    },
    "language_info": {
      "name": "python"
    }
  },
  "cells": [
    {
      "cell_type": "markdown",
      "source": [
        "Imports"
      ],
      "metadata": {
        "id": "csaE1R6gBYrO"
      }
    },
    {
      "cell_type": "code",
      "execution_count": 1,
      "metadata": {
        "id": "SFBcRh30A60A"
      },
      "outputs": [],
      "source": [
        "import pandas as pd\n",
        "import math\n",
        "import scipy.stats as st\n",
        "from sklearn.preprocessing import MinMaxScaler\n",
        "\n",
        "pd.set_option('display.max_columns', None)\n",
        "pd.set_option('display.max_rows', None)\n",
        "pd.set_option('display.width', 500)\n",
        "pd.set_option('display.expand_frame_repr', False)\n",
        "pd.set_option('display.float_format', lambda x: '%.5f' % x)"
      ]
    },
    {
      "cell_type": "markdown",
      "source": [
        "Reading the File"
      ],
      "metadata": {
        "id": "yW86zKQMBfYR"
      }
    },
    {
      "cell_type": "code",
      "source": [
        "df = pd.read_csv(\"amazon_review.csv\")\n",
        "df.head()"
      ],
      "metadata": {
        "colab": {
          "base_uri": "https://localhost:8080/",
          "height": 206
        },
        "id": "go4_v08ABiMD",
        "outputId": "47c115ca-9c8c-4e44-dace-f5ba0904dbb9"
      },
      "execution_count": 5,
      "outputs": [
        {
          "output_type": "execute_result",
          "data": {
            "text/plain": [
              "       reviewerID        asin  reviewerName helpful                                         reviewText  overall                                 summary  unixReviewTime  reviewTime  day_diff  helpful_yes  total_vote\n",
              "0  A3SBTW3WS4IQSN  B007WTAJTO           NaN  [0, 0]                                         No issues.  4.00000                              Four Stars      1406073600  2014-07-23       138            0           0\n",
              "1  A18K1ODH1I2MVB  B007WTAJTO          0mie  [0, 0]  Purchased this for my device, it worked as adv...  5.00000                           MOAR SPACE!!!      1382659200  2013-10-25       409            0           0\n",
              "2  A2FII3I2MBMUIA  B007WTAJTO           1K3  [0, 0]  it works as expected. I should have sprung for...  4.00000               nothing to really say....      1356220800  2012-12-23       715            0           0\n",
              "3   A3H99DFEG68SR  B007WTAJTO           1m2  [0, 0]  This think has worked out great.Had a diff. br...  5.00000  Great buy at this price!!!  *** UPDATE      1384992000  2013-11-21       382            0           0\n",
              "4  A375ZM4U047O79  B007WTAJTO  2&amp;1/2Men  [0, 0]  Bought it with Retail Packaging, arrived legit...  5.00000                        best deal around      1373673600  2013-07-13       513            0           0"
            ],
            "text/html": [
              "\n",
              "  <div id=\"df-eb50b202-2b4e-4b69-97c3-534b8d16ca71\">\n",
              "    <div class=\"colab-df-container\">\n",
              "      <div>\n",
              "<style scoped>\n",
              "    .dataframe tbody tr th:only-of-type {\n",
              "        vertical-align: middle;\n",
              "    }\n",
              "\n",
              "    .dataframe tbody tr th {\n",
              "        vertical-align: top;\n",
              "    }\n",
              "\n",
              "    .dataframe thead th {\n",
              "        text-align: right;\n",
              "    }\n",
              "</style>\n",
              "<table border=\"1\" class=\"dataframe\">\n",
              "  <thead>\n",
              "    <tr style=\"text-align: right;\">\n",
              "      <th></th>\n",
              "      <th>reviewerID</th>\n",
              "      <th>asin</th>\n",
              "      <th>reviewerName</th>\n",
              "      <th>helpful</th>\n",
              "      <th>reviewText</th>\n",
              "      <th>overall</th>\n",
              "      <th>summary</th>\n",
              "      <th>unixReviewTime</th>\n",
              "      <th>reviewTime</th>\n",
              "      <th>day_diff</th>\n",
              "      <th>helpful_yes</th>\n",
              "      <th>total_vote</th>\n",
              "    </tr>\n",
              "  </thead>\n",
              "  <tbody>\n",
              "    <tr>\n",
              "      <th>0</th>\n",
              "      <td>A3SBTW3WS4IQSN</td>\n",
              "      <td>B007WTAJTO</td>\n",
              "      <td>NaN</td>\n",
              "      <td>[0, 0]</td>\n",
              "      <td>No issues.</td>\n",
              "      <td>4.00000</td>\n",
              "      <td>Four Stars</td>\n",
              "      <td>1406073600</td>\n",
              "      <td>2014-07-23</td>\n",
              "      <td>138</td>\n",
              "      <td>0</td>\n",
              "      <td>0</td>\n",
              "    </tr>\n",
              "    <tr>\n",
              "      <th>1</th>\n",
              "      <td>A18K1ODH1I2MVB</td>\n",
              "      <td>B007WTAJTO</td>\n",
              "      <td>0mie</td>\n",
              "      <td>[0, 0]</td>\n",
              "      <td>Purchased this for my device, it worked as adv...</td>\n",
              "      <td>5.00000</td>\n",
              "      <td>MOAR SPACE!!!</td>\n",
              "      <td>1382659200</td>\n",
              "      <td>2013-10-25</td>\n",
              "      <td>409</td>\n",
              "      <td>0</td>\n",
              "      <td>0</td>\n",
              "    </tr>\n",
              "    <tr>\n",
              "      <th>2</th>\n",
              "      <td>A2FII3I2MBMUIA</td>\n",
              "      <td>B007WTAJTO</td>\n",
              "      <td>1K3</td>\n",
              "      <td>[0, 0]</td>\n",
              "      <td>it works as expected. I should have sprung for...</td>\n",
              "      <td>4.00000</td>\n",
              "      <td>nothing to really say....</td>\n",
              "      <td>1356220800</td>\n",
              "      <td>2012-12-23</td>\n",
              "      <td>715</td>\n",
              "      <td>0</td>\n",
              "      <td>0</td>\n",
              "    </tr>\n",
              "    <tr>\n",
              "      <th>3</th>\n",
              "      <td>A3H99DFEG68SR</td>\n",
              "      <td>B007WTAJTO</td>\n",
              "      <td>1m2</td>\n",
              "      <td>[0, 0]</td>\n",
              "      <td>This think has worked out great.Had a diff. br...</td>\n",
              "      <td>5.00000</td>\n",
              "      <td>Great buy at this price!!!  *** UPDATE</td>\n",
              "      <td>1384992000</td>\n",
              "      <td>2013-11-21</td>\n",
              "      <td>382</td>\n",
              "      <td>0</td>\n",
              "      <td>0</td>\n",
              "    </tr>\n",
              "    <tr>\n",
              "      <th>4</th>\n",
              "      <td>A375ZM4U047O79</td>\n",
              "      <td>B007WTAJTO</td>\n",
              "      <td>2&amp;amp;1/2Men</td>\n",
              "      <td>[0, 0]</td>\n",
              "      <td>Bought it with Retail Packaging, arrived legit...</td>\n",
              "      <td>5.00000</td>\n",
              "      <td>best deal around</td>\n",
              "      <td>1373673600</td>\n",
              "      <td>2013-07-13</td>\n",
              "      <td>513</td>\n",
              "      <td>0</td>\n",
              "      <td>0</td>\n",
              "    </tr>\n",
              "  </tbody>\n",
              "</table>\n",
              "</div>\n",
              "      <button class=\"colab-df-convert\" onclick=\"convertToInteractive('df-eb50b202-2b4e-4b69-97c3-534b8d16ca71')\"\n",
              "              title=\"Convert this dataframe to an interactive table.\"\n",
              "              style=\"display:none;\">\n",
              "        \n",
              "  <svg xmlns=\"http://www.w3.org/2000/svg\" height=\"24px\"viewBox=\"0 0 24 24\"\n",
              "       width=\"24px\">\n",
              "    <path d=\"M0 0h24v24H0V0z\" fill=\"none\"/>\n",
              "    <path d=\"M18.56 5.44l.94 2.06.94-2.06 2.06-.94-2.06-.94-.94-2.06-.94 2.06-2.06.94zm-11 1L8.5 8.5l.94-2.06 2.06-.94-2.06-.94L8.5 2.5l-.94 2.06-2.06.94zm10 10l.94 2.06.94-2.06 2.06-.94-2.06-.94-.94-2.06-.94 2.06-2.06.94z\"/><path d=\"M17.41 7.96l-1.37-1.37c-.4-.4-.92-.59-1.43-.59-.52 0-1.04.2-1.43.59L10.3 9.45l-7.72 7.72c-.78.78-.78 2.05 0 2.83L4 21.41c.39.39.9.59 1.41.59.51 0 1.02-.2 1.41-.59l7.78-7.78 2.81-2.81c.8-.78.8-2.07 0-2.86zM5.41 20L4 18.59l7.72-7.72 1.47 1.35L5.41 20z\"/>\n",
              "  </svg>\n",
              "      </button>\n",
              "      \n",
              "  <style>\n",
              "    .colab-df-container {\n",
              "      display:flex;\n",
              "      flex-wrap:wrap;\n",
              "      gap: 12px;\n",
              "    }\n",
              "\n",
              "    .colab-df-convert {\n",
              "      background-color: #E8F0FE;\n",
              "      border: none;\n",
              "      border-radius: 50%;\n",
              "      cursor: pointer;\n",
              "      display: none;\n",
              "      fill: #1967D2;\n",
              "      height: 32px;\n",
              "      padding: 0 0 0 0;\n",
              "      width: 32px;\n",
              "    }\n",
              "\n",
              "    .colab-df-convert:hover {\n",
              "      background-color: #E2EBFA;\n",
              "      box-shadow: 0px 1px 2px rgba(60, 64, 67, 0.3), 0px 1px 3px 1px rgba(60, 64, 67, 0.15);\n",
              "      fill: #174EA6;\n",
              "    }\n",
              "\n",
              "    [theme=dark] .colab-df-convert {\n",
              "      background-color: #3B4455;\n",
              "      fill: #D2E3FC;\n",
              "    }\n",
              "\n",
              "    [theme=dark] .colab-df-convert:hover {\n",
              "      background-color: #434B5C;\n",
              "      box-shadow: 0px 1px 3px 1px rgba(0, 0, 0, 0.15);\n",
              "      filter: drop-shadow(0px 1px 2px rgba(0, 0, 0, 0.3));\n",
              "      fill: #FFFFFF;\n",
              "    }\n",
              "  </style>\n",
              "\n",
              "      <script>\n",
              "        const buttonEl =\n",
              "          document.querySelector('#df-eb50b202-2b4e-4b69-97c3-534b8d16ca71 button.colab-df-convert');\n",
              "        buttonEl.style.display =\n",
              "          google.colab.kernel.accessAllowed ? 'block' : 'none';\n",
              "\n",
              "        async function convertToInteractive(key) {\n",
              "          const element = document.querySelector('#df-eb50b202-2b4e-4b69-97c3-534b8d16ca71');\n",
              "          const dataTable =\n",
              "            await google.colab.kernel.invokeFunction('convertToInteractive',\n",
              "                                                     [key], {});\n",
              "          if (!dataTable) return;\n",
              "\n",
              "          const docLinkHtml = 'Like what you see? Visit the ' +\n",
              "            '<a target=\"_blank\" href=https://colab.research.google.com/notebooks/data_table.ipynb>data table notebook</a>'\n",
              "            + ' to learn more about interactive tables.';\n",
              "          element.innerHTML = '';\n",
              "          dataTable['output_type'] = 'display_data';\n",
              "          await google.colab.output.renderOutput(dataTable, element);\n",
              "          const docLink = document.createElement('div');\n",
              "          docLink.innerHTML = docLinkHtml;\n",
              "          element.appendChild(docLink);\n",
              "        }\n",
              "      </script>\n",
              "    </div>\n",
              "  </div>\n",
              "  "
            ]
          },
          "metadata": {},
          "execution_count": 5
        }
      ]
    },
    {
      "cell_type": "code",
      "source": [
        "df.shape"
      ],
      "metadata": {
        "colab": {
          "base_uri": "https://localhost:8080/"
        },
        "id": "tnC2rqzCCAWc",
        "outputId": "423bdc5b-fa4b-4e37-9c26-159ccb007bf4"
      },
      "execution_count": 6,
      "outputs": [
        {
          "output_type": "execute_result",
          "data": {
            "text/plain": [
              "(4915, 12)"
            ]
          },
          "metadata": {},
          "execution_count": 6
        }
      ]
    },
    {
      "cell_type": "markdown",
      "source": [],
      "metadata": {
        "id": "ET_jnQpLCEOd"
      }
    },
    {
      "cell_type": "code",
      "source": [
        "df[\"overall\"].mean()"
      ],
      "metadata": {
        "colab": {
          "base_uri": "https://localhost:8080/"
        },
        "id": "Po8ncXcyCEfh",
        "outputId": "b62a27b9-d377-4a65-da9f-aeb873694e2b"
      },
      "execution_count": 7,
      "outputs": [
        {
          "output_type": "execute_result",
          "data": {
            "text/plain": [
              "4.587589013224822"
            ]
          },
          "metadata": {},
          "execution_count": 7
        }
      ]
    },
    {
      "cell_type": "markdown",
      "source": [
        "Converting to datetime"
      ],
      "metadata": {
        "id": "aKQudbdoCG8u"
      }
    },
    {
      "cell_type": "code",
      "source": [
        "\n",
        "df[\"reviewTime\"] = pd.to_datetime(df[\"reviewTime\"])\n",
        "current_date = df[\"reviewTime\"].max()\n"
      ],
      "metadata": {
        "id": "je3IscGDCGN0"
      },
      "execution_count": 8,
      "outputs": []
    },
    {
      "cell_type": "code",
      "source": [
        "df[\"current_diff\"] = (current_date - df[\"reviewTime\"]).dt.days"
      ],
      "metadata": {
        "id": "-gjTAlBwCGQh"
      },
      "execution_count": 9,
      "outputs": []
    },
    {
      "cell_type": "code",
      "source": [
        "df[\"current_diff\"].quantile([0.1,0.25,0.50])"
      ],
      "metadata": {
        "colab": {
          "base_uri": "https://localhost:8080/"
        },
        "id": "YKo-echeCSw7",
        "outputId": "e13a6ed8-3b42-4070-94cf-9427f5f4d8e0"
      },
      "execution_count": 10,
      "outputs": [
        {
          "output_type": "execute_result",
          "data": {
            "text/plain": [
              "0.10000   166.00000\n",
              "0.25000   280.00000\n",
              "0.50000   430.00000\n",
              "Name: current_diff, dtype: float64"
            ]
          },
          "metadata": {},
          "execution_count": 10
        }
      ]
    },
    {
      "cell_type": "code",
      "source": [
        "df.loc[df[\"current_diff\"] <= 166, \"overall\"].mean() #4.68986083499006\n"
      ],
      "metadata": {
        "colab": {
          "base_uri": "https://localhost:8080/"
        },
        "id": "jauNShdVCSzU",
        "outputId": "37ab4f32-2b0b-4b30-9a80-1b42186b13f5"
      },
      "execution_count": 11,
      "outputs": [
        {
          "output_type": "execute_result",
          "data": {
            "text/plain": [
              "4.68986083499006"
            ]
          },
          "metadata": {},
          "execution_count": 11
        }
      ]
    },
    {
      "cell_type": "code",
      "source": [
        "df.loc[(df[\"current_diff\"] > 166) & (df[\"current_diff\"] <= 280), \"overall\"].mean() #4.699863574351978\n"
      ],
      "metadata": {
        "colab": {
          "base_uri": "https://localhost:8080/"
        },
        "id": "tWKur_UPCS1j",
        "outputId": "0985a151-85bf-4e2f-bc43-48ed34c2d561"
      },
      "execution_count": 13,
      "outputs": [
        {
          "output_type": "execute_result",
          "data": {
            "text/plain": [
              "4.699863574351978"
            ]
          },
          "metadata": {},
          "execution_count": 13
        }
      ]
    },
    {
      "cell_type": "code",
      "source": [
        "df.loc[(df[\"current_diff\"] > 280) & (df[\"current_diff\"] <= 430), \"overall\"].mean() #4.636140637775961\n"
      ],
      "metadata": {
        "colab": {
          "base_uri": "https://localhost:8080/"
        },
        "id": "SV7dCKdRCXsA",
        "outputId": "aa5d0ea8-8183-47ca-e031-c6f9ba4bd9b7"
      },
      "execution_count": 12,
      "outputs": [
        {
          "output_type": "execute_result",
          "data": {
            "text/plain": [
              "4.636140637775961"
            ]
          },
          "metadata": {},
          "execution_count": 12
        }
      ]
    },
    {
      "cell_type": "code",
      "source": [
        "df.loc[(df[\"current_diff\"] > 430), \"overall\"].mean() #4.508957654723127\n"
      ],
      "metadata": {
        "colab": {
          "base_uri": "https://localhost:8080/"
        },
        "id": "b7ZSGuoZCXuZ",
        "outputId": "6d5fa673-2314-4fdd-ce49-900f91e089e5"
      },
      "execution_count": 14,
      "outputs": [
        {
          "output_type": "execute_result",
          "data": {
            "text/plain": [
              "4.508957654723127"
            ]
          },
          "metadata": {},
          "execution_count": 14
        }
      ]
    },
    {
      "cell_type": "code",
      "source": [
        "def time_based_weighted_average(dataframe, w1=30, w2=28, w3=24, w4=18):\n",
        "    return dataframe.loc[df[\"current_diff\"] <= 166, \"overall\"].mean() * w1 / 100 + \\\n",
        "           dataframe.loc[(dataframe[\"current_diff\"] > 166) & (dataframe[\"current_diff\"] <= 280), \"overall\"].mean() * w2 / 100 + \\\n",
        "           dataframe.loc[(dataframe[\"current_diff\"] > 280) & (dataframe[\"current_diff\"] <= 430), \"overall\"].mean() * w3 / 100 + \\\n",
        "           dataframe.loc[(dataframe[\"current_diff\"] > 430), \"overall\"].mean() * w4 / 100\n"
      ],
      "metadata": {
        "id": "cETRkHHkCeiY"
      },
      "execution_count": 15,
      "outputs": []
    },
    {
      "cell_type": "code",
      "source": [
        "time_based_weighted_average(df)\n"
      ],
      "metadata": {
        "colab": {
          "base_uri": "https://localhost:8080/"
        },
        "id": "2kDWcVdtCekn",
        "outputId": "fc221ef7-528b-4a53-84e7-bd6035a7be36"
      },
      "execution_count": 16,
      "outputs": [
        {
          "output_type": "execute_result",
          "data": {
            "text/plain": [
              "4.647206182231965"
            ]
          },
          "metadata": {},
          "execution_count": 16
        }
      ]
    },
    {
      "cell_type": "code",
      "source": [
        "df[\"helpful_no\"] = (df.total_vote - df.helpful_yes) #yararsız bulunan oy sayısı\n"
      ],
      "metadata": {
        "id": "-4Ko28bBCem2"
      },
      "execution_count": 18,
      "outputs": []
    },
    {
      "cell_type": "code",
      "source": [
        "\n",
        "def score_pos_neg_diff(up,down):\n",
        "    return up - down\n"
      ],
      "metadata": {
        "id": "TNvtutcfCl9S"
      },
      "execution_count": 19,
      "outputs": []
    },
    {
      "cell_type": "code",
      "source": [
        "\n",
        "def score_average_rating(helpful_yes, helpful_no):\n",
        "    if helpful_yes + helpful_no == 0:\n",
        "        return 0\n",
        "    return helpful_yes / (helpful_yes + helpful_no)"
      ],
      "metadata": {
        "id": "vRou3i5dCmCR"
      },
      "execution_count": 20,
      "outputs": []
    },
    {
      "cell_type": "code",
      "source": [
        "def wilson_lower_bound(up, down, confidence=0.95):\n",
        "    \"\"\"\n",
        "    Wilson Lower Bound Score \n",
        "\n",
        "    Parameters\n",
        "    ----------\n",
        "    up: int\n",
        "        up count\n",
        "    down: int\n",
        "        down count\n",
        "    confidence: float\n",
        "        confidence\n",
        "\n",
        "    Returns\n",
        "    -------\n",
        "    wilson score: float\n",
        "\n",
        "    \"\"\"\n",
        "    n = up + down\n",
        "    if n == 0:\n",
        "        return 0\n",
        "    z = st.norm.ppf(1 - (1 - confidence) / 2)\n",
        "    phat = 1.0 * up / n\n",
        "    return (phat + z * z / (2 * n) - z * math.sqrt((phat * (1 - phat) + z * z / (4 * n)) / n)) / (1 + z * z / n)"
      ],
      "metadata": {
        "id": "h0QVk6ixCmEu"
      },
      "execution_count": 21,
      "outputs": []
    },
    {
      "cell_type": "code",
      "source": [
        "df[\"score_pos_neg_diff\"] = df.apply(lambda x: score_pos_neg_diff(x[\"helpful_yes\"], x[\"helpful_no\"]), axis=1)\n",
        "\n",
        "df[\"score_average_rating\"] = df.apply(lambda x: score_average_rating(x[\"helpful_yes\"], x[\"helpful_no\"]), axis=1)\n",
        "\n",
        "df[\"wilson_lower_bound\"] = df.apply(lambda x: wilson_lower_bound(x[\"helpful_yes\"], x[\"helpful_no\"]), axis=1)"
      ],
      "metadata": {
        "id": "0YxhHuC3CmHG"
      },
      "execution_count": 23,
      "outputs": []
    },
    {
      "cell_type": "code",
      "source": [
        "df[\"score_pos_neg_diff\"].sort_values(ascending=False).head(20)\n"
      ],
      "metadata": {
        "colab": {
          "base_uri": "https://localhost:8080/"
        },
        "id": "QmeskUBdCmJq",
        "outputId": "d67088d3-3589-430a-f6d6-d3ec44cf7d95"
      },
      "execution_count": 24,
      "outputs": [
        {
          "output_type": "execute_result",
          "data": {
            "text/plain": [
              "2031    1884\n",
              "4212    1442\n",
              "3449    1351\n",
              "317      349\n",
              "3981      85\n",
              "4596      55\n",
              "1835      52\n",
              "4672      41\n",
              "4306      37\n",
              "315       28\n",
              "3807      19\n",
              "4302      12\n",
              "93         9\n",
              "1609       7\n",
              "1465       7\n",
              "4072       6\n",
              "2268       6\n",
              "121        5\n",
              "323        5\n",
              "2695       5\n",
              "Name: score_pos_neg_diff, dtype: int64"
            ]
          },
          "metadata": {},
          "execution_count": 24
        }
      ]
    },
    {
      "cell_type": "code",
      "source": [
        "df[\"score_average_rating\"].sort_values(ascending=False).head(20)\n"
      ],
      "metadata": {
        "colab": {
          "base_uri": "https://localhost:8080/"
        },
        "id": "VhEuqmClCzq7",
        "outputId": "8d793ed6-59af-4270-c6de-642f4990524d"
      },
      "execution_count": 25,
      "outputs": [
        {
          "output_type": "execute_result",
          "data": {
            "text/plain": [
              "4277   1.00000\n",
              "2881   1.00000\n",
              "1073   1.00000\n",
              "445    1.00000\n",
              "3923   1.00000\n",
              "435    1.00000\n",
              "2901   1.00000\n",
              "2204   1.00000\n",
              "2206   1.00000\n",
              "3408   1.00000\n",
              "4538   1.00000\n",
              "1097   1.00000\n",
              "2885   1.00000\n",
              "3418   1.00000\n",
              "4554   1.00000\n",
              "1609   1.00000\n",
              "402    1.00000\n",
              "2226   1.00000\n",
              "3901   1.00000\n",
              "3897   1.00000\n",
              "Name: score_average_rating, dtype: float64"
            ]
          },
          "metadata": {},
          "execution_count": 25
        }
      ]
    },
    {
      "cell_type": "code",
      "source": [
        "df.sort_values(\"wilson_lower_bound\", ascending=False).head(20)\n"
      ],
      "metadata": {
        "colab": {
          "base_uri": "https://localhost:8080/",
          "height": 1000
        },
        "id": "pDkP6lkaCztR",
        "outputId": "d0c6c062-6509-4e90-e61b-373d5fa7e020"
      },
      "execution_count": 26,
      "outputs": [
        {
          "output_type": "execute_result",
          "data": {
            "text/plain": [
              "          reviewerID        asin                          reviewerName       helpful                                         reviewText  overall                                            summary  unixReviewTime reviewTime  day_diff  helpful_yes  total_vote  current_diff  helpful_no  score_pos_neg_diff  score_average_rating  wilson_lower_bound\n",
              "2031  A12B7ZMXFI6IXY  B007WTAJTO                  Hyoun Kim \"Faluzure\"  [1952, 2020]  [[ UPDATE - 6/19/2014 ]]So my lovely wife boug...  5.00000  UPDATED - Great w/ Galaxy S4 & Galaxy Tab 4 10...      1367366400 2013-01-05       702         1952        2020           701          68                1884               0.96634             0.95754\n",
              "3449   AOEAD7DPLZE53  B007WTAJTO                     NLee the Engineer  [1428, 1505]  I have tested dozens of SDHC and micro-SDHC ca...  5.00000  Top of the class among all (budget-priced) mic...      1348617600 2012-09-26       803         1428        1505           802          77                1351               0.94884             0.93652\n",
              "4212   AVBMZZAFEKO58  B007WTAJTO                           SkincareCEO  [1568, 1694]  NOTE:  please read the last update (scroll to ...  1.00000  1 Star reviews - Micro SDXC card unmounts itse...      1375660800 2013-05-08       579         1568        1694           578         126                1442               0.92562             0.91214\n",
              "317   A1ZQAQFYSXL5MQ  B007WTAJTO               Amazon Customer \"Kelly\"    [422, 495]  If your card gets hot enough to be painful, it...  1.00000                                Warning, read this!      1346544000 2012-02-09      1033          422         495          1032          73                 349               0.85253             0.81858\n",
              "4672  A2DKQQIZ793AV5  B007WTAJTO                               Twister      [45, 49]  Sandisk announcement of the first 128GB micro ...  5.00000  Super high capacity!!!  Excellent price (on Am...      1394150400 2014-07-03       158           45          49           157           4                  41               0.91837             0.80811\n",
              "1835  A1J6VSUM80UAF8  B007WTAJTO                           goconfigure      [60, 68]  Bought from BestBuy online the day it was anno...  5.00000                                           I own it      1393545600 2014-02-28       283           60          68           282           8                  52               0.88235             0.78465\n",
              "3981  A1K91XXQ6ZEBQR  B007WTAJTO            R. Sutton, Jr. \"RWSynergy\"    [112, 139]  The last few days I have been diligently shopp...  5.00000  Resolving confusion between \"Mobile Ultra\" and...      1350864000 2012-10-22       777          112         139           776          27                  85               0.80576             0.73214\n",
              "3807   AFGRMORWY2QNX  B007WTAJTO                            R. Heisler      [22, 25]  I bought this card to replace a lost 16 gig in...  3.00000   Good buy for the money but wait, I had an issue!      1361923200 2013-02-27       649           22          25           648           3                  19               0.88000             0.70044\n",
              "4306   AOHXKM5URSKAB  B007WTAJTO                         Stellar Eller      [51, 65]  While I got this card as a \"deal of the day\" o...  5.00000                                      Awesome Card!      1339200000 2012-09-06       823           51          65           822          14                  37               0.78462             0.67033\n",
              "4596  A1WTQUOQ4WG9AI  B007WTAJTO           Tom Henriksen \"Doggy Diner\"     [82, 109]  Hi:I ordered two card and they arrived the nex...  1.00000     Designed incompatibility/Don't support SanDisk      1348272000 2012-09-22       807           82         109           806          27                  55               0.75229             0.66359\n",
              "315   A2J26NNQX6WKAU  B007WTAJTO            Amazon Customer \"johncrea\"      [38, 48]  Bought this card to use with my Samsung Galaxy...  5.00000  Samsung Galaxy Tab2 works with this card if re...      1344816000 2012-08-13       847           38          48           846          10                  28               0.79167             0.65741\n",
              "1465   A6I8KXYK24RTB  B007WTAJTO                              D. Stein        [7, 7]  I for one have not bought into Google's, or an...  4.00000                                           Finally.      1397433600 2014-04-14       238            7           7           237           0                   7               1.00000             0.64567\n",
              "1609  A2TPXOZSU1DACQ  B007WTAJTO                                Eskimo        [7, 7]  I have always been a sandisk guy.  This cards ...  5.00000                  Bet you wish you had one of these      1395792000 2014-03-26       257            7           7           256           0                   7               1.00000             0.64567\n",
              "4302  A2EL2GWJ9T0DWY  B007WTAJTO                             Stayeraug      [14, 16]  So I got this SD specifically for my GoPro Bla...  5.00000                        Perfect with GoPro Black 3+      1395360000 2014-03-21       262           14          16           261           2                  12               0.87500             0.63977\n",
              "4072  A22GOZTFA02O2F  B007WTAJTO                           sb21 \"sb21\"        [6, 6]  I used this for my Samsung Galaxy Tab 2 7.0 . ...  5.00000               Used for my Samsung Galaxy Tab 2 7.0      1347321600 2012-11-09       759            6           6           758           0                   6               1.00000             0.60967\n",
              "1072  A2O96COBMVY9C4  B007WTAJTO                        Crysis Complex        [5, 5]  What more can I say? The 64GB micro SD works f...  5.00000               Works wonders for the Galaxy Note 2!      1349395200 2012-05-10       942            5           5           941           0                   5               1.00000             0.56552\n",
              "2583  A3MEPYZVTAV90W  B007WTAJTO                               J. Wong        [5, 5]  I bought this Class 10 SD card for my GoPro 3 ...  5.00000                  Works Great with a GoPro 3 Black!      1370649600 2013-08-06       489            5           5           488           0                   5               1.00000             0.56552\n",
              "121   A2Z4VVF1NTJWPB  B007WTAJTO                                A. Lee        [5, 5]  Update: providing an update with regard to San...  5.00000                     ready for use on the Galaxy S3      1346803200 2012-05-09       943            5           5           942           0                   5               1.00000             0.56552\n",
              "1142  A1PLHPPAJ5MUXG  B007WTAJTO  Daniel Pham(Danpham_X @ yahoo.  com)        [5, 5]  As soon as I saw that this card was announced ...  5.00000                          Great large capacity card      1396396800 2014-02-04       307            5           5           306           0                   5               1.00000             0.56552\n",
              "1753   ALPLKR59QMBUX  B007WTAJTO                             G. Becker        [5, 5]  Puchased this card right after I received my S...  5.00000                    Use Nothing Other Than the Best      1350864000 2012-10-22       777            5           5           776           0                   5               1.00000             0.56552"
            ],
            "text/html": [
              "\n",
              "  <div id=\"df-17d3f3e8-5d82-421d-bac6-c05cfa633a8a\">\n",
              "    <div class=\"colab-df-container\">\n",
              "      <div>\n",
              "<style scoped>\n",
              "    .dataframe tbody tr th:only-of-type {\n",
              "        vertical-align: middle;\n",
              "    }\n",
              "\n",
              "    .dataframe tbody tr th {\n",
              "        vertical-align: top;\n",
              "    }\n",
              "\n",
              "    .dataframe thead th {\n",
              "        text-align: right;\n",
              "    }\n",
              "</style>\n",
              "<table border=\"1\" class=\"dataframe\">\n",
              "  <thead>\n",
              "    <tr style=\"text-align: right;\">\n",
              "      <th></th>\n",
              "      <th>reviewerID</th>\n",
              "      <th>asin</th>\n",
              "      <th>reviewerName</th>\n",
              "      <th>helpful</th>\n",
              "      <th>reviewText</th>\n",
              "      <th>overall</th>\n",
              "      <th>summary</th>\n",
              "      <th>unixReviewTime</th>\n",
              "      <th>reviewTime</th>\n",
              "      <th>day_diff</th>\n",
              "      <th>helpful_yes</th>\n",
              "      <th>total_vote</th>\n",
              "      <th>current_diff</th>\n",
              "      <th>helpful_no</th>\n",
              "      <th>score_pos_neg_diff</th>\n",
              "      <th>score_average_rating</th>\n",
              "      <th>wilson_lower_bound</th>\n",
              "    </tr>\n",
              "  </thead>\n",
              "  <tbody>\n",
              "    <tr>\n",
              "      <th>2031</th>\n",
              "      <td>A12B7ZMXFI6IXY</td>\n",
              "      <td>B007WTAJTO</td>\n",
              "      <td>Hyoun Kim \"Faluzure\"</td>\n",
              "      <td>[1952, 2020]</td>\n",
              "      <td>[[ UPDATE - 6/19/2014 ]]So my lovely wife boug...</td>\n",
              "      <td>5.00000</td>\n",
              "      <td>UPDATED - Great w/ Galaxy S4 &amp; Galaxy Tab 4 10...</td>\n",
              "      <td>1367366400</td>\n",
              "      <td>2013-01-05</td>\n",
              "      <td>702</td>\n",
              "      <td>1952</td>\n",
              "      <td>2020</td>\n",
              "      <td>701</td>\n",
              "      <td>68</td>\n",
              "      <td>1884</td>\n",
              "      <td>0.96634</td>\n",
              "      <td>0.95754</td>\n",
              "    </tr>\n",
              "    <tr>\n",
              "      <th>3449</th>\n",
              "      <td>AOEAD7DPLZE53</td>\n",
              "      <td>B007WTAJTO</td>\n",
              "      <td>NLee the Engineer</td>\n",
              "      <td>[1428, 1505]</td>\n",
              "      <td>I have tested dozens of SDHC and micro-SDHC ca...</td>\n",
              "      <td>5.00000</td>\n",
              "      <td>Top of the class among all (budget-priced) mic...</td>\n",
              "      <td>1348617600</td>\n",
              "      <td>2012-09-26</td>\n",
              "      <td>803</td>\n",
              "      <td>1428</td>\n",
              "      <td>1505</td>\n",
              "      <td>802</td>\n",
              "      <td>77</td>\n",
              "      <td>1351</td>\n",
              "      <td>0.94884</td>\n",
              "      <td>0.93652</td>\n",
              "    </tr>\n",
              "    <tr>\n",
              "      <th>4212</th>\n",
              "      <td>AVBMZZAFEKO58</td>\n",
              "      <td>B007WTAJTO</td>\n",
              "      <td>SkincareCEO</td>\n",
              "      <td>[1568, 1694]</td>\n",
              "      <td>NOTE:  please read the last update (scroll to ...</td>\n",
              "      <td>1.00000</td>\n",
              "      <td>1 Star reviews - Micro SDXC card unmounts itse...</td>\n",
              "      <td>1375660800</td>\n",
              "      <td>2013-05-08</td>\n",
              "      <td>579</td>\n",
              "      <td>1568</td>\n",
              "      <td>1694</td>\n",
              "      <td>578</td>\n",
              "      <td>126</td>\n",
              "      <td>1442</td>\n",
              "      <td>0.92562</td>\n",
              "      <td>0.91214</td>\n",
              "    </tr>\n",
              "    <tr>\n",
              "      <th>317</th>\n",
              "      <td>A1ZQAQFYSXL5MQ</td>\n",
              "      <td>B007WTAJTO</td>\n",
              "      <td>Amazon Customer \"Kelly\"</td>\n",
              "      <td>[422, 495]</td>\n",
              "      <td>If your card gets hot enough to be painful, it...</td>\n",
              "      <td>1.00000</td>\n",
              "      <td>Warning, read this!</td>\n",
              "      <td>1346544000</td>\n",
              "      <td>2012-02-09</td>\n",
              "      <td>1033</td>\n",
              "      <td>422</td>\n",
              "      <td>495</td>\n",
              "      <td>1032</td>\n",
              "      <td>73</td>\n",
              "      <td>349</td>\n",
              "      <td>0.85253</td>\n",
              "      <td>0.81858</td>\n",
              "    </tr>\n",
              "    <tr>\n",
              "      <th>4672</th>\n",
              "      <td>A2DKQQIZ793AV5</td>\n",
              "      <td>B007WTAJTO</td>\n",
              "      <td>Twister</td>\n",
              "      <td>[45, 49]</td>\n",
              "      <td>Sandisk announcement of the first 128GB micro ...</td>\n",
              "      <td>5.00000</td>\n",
              "      <td>Super high capacity!!!  Excellent price (on Am...</td>\n",
              "      <td>1394150400</td>\n",
              "      <td>2014-07-03</td>\n",
              "      <td>158</td>\n",
              "      <td>45</td>\n",
              "      <td>49</td>\n",
              "      <td>157</td>\n",
              "      <td>4</td>\n",
              "      <td>41</td>\n",
              "      <td>0.91837</td>\n",
              "      <td>0.80811</td>\n",
              "    </tr>\n",
              "    <tr>\n",
              "      <th>1835</th>\n",
              "      <td>A1J6VSUM80UAF8</td>\n",
              "      <td>B007WTAJTO</td>\n",
              "      <td>goconfigure</td>\n",
              "      <td>[60, 68]</td>\n",
              "      <td>Bought from BestBuy online the day it was anno...</td>\n",
              "      <td>5.00000</td>\n",
              "      <td>I own it</td>\n",
              "      <td>1393545600</td>\n",
              "      <td>2014-02-28</td>\n",
              "      <td>283</td>\n",
              "      <td>60</td>\n",
              "      <td>68</td>\n",
              "      <td>282</td>\n",
              "      <td>8</td>\n",
              "      <td>52</td>\n",
              "      <td>0.88235</td>\n",
              "      <td>0.78465</td>\n",
              "    </tr>\n",
              "    <tr>\n",
              "      <th>3981</th>\n",
              "      <td>A1K91XXQ6ZEBQR</td>\n",
              "      <td>B007WTAJTO</td>\n",
              "      <td>R. Sutton, Jr. \"RWSynergy\"</td>\n",
              "      <td>[112, 139]</td>\n",
              "      <td>The last few days I have been diligently shopp...</td>\n",
              "      <td>5.00000</td>\n",
              "      <td>Resolving confusion between \"Mobile Ultra\" and...</td>\n",
              "      <td>1350864000</td>\n",
              "      <td>2012-10-22</td>\n",
              "      <td>777</td>\n",
              "      <td>112</td>\n",
              "      <td>139</td>\n",
              "      <td>776</td>\n",
              "      <td>27</td>\n",
              "      <td>85</td>\n",
              "      <td>0.80576</td>\n",
              "      <td>0.73214</td>\n",
              "    </tr>\n",
              "    <tr>\n",
              "      <th>3807</th>\n",
              "      <td>AFGRMORWY2QNX</td>\n",
              "      <td>B007WTAJTO</td>\n",
              "      <td>R. Heisler</td>\n",
              "      <td>[22, 25]</td>\n",
              "      <td>I bought this card to replace a lost 16 gig in...</td>\n",
              "      <td>3.00000</td>\n",
              "      <td>Good buy for the money but wait, I had an issue!</td>\n",
              "      <td>1361923200</td>\n",
              "      <td>2013-02-27</td>\n",
              "      <td>649</td>\n",
              "      <td>22</td>\n",
              "      <td>25</td>\n",
              "      <td>648</td>\n",
              "      <td>3</td>\n",
              "      <td>19</td>\n",
              "      <td>0.88000</td>\n",
              "      <td>0.70044</td>\n",
              "    </tr>\n",
              "    <tr>\n",
              "      <th>4306</th>\n",
              "      <td>AOHXKM5URSKAB</td>\n",
              "      <td>B007WTAJTO</td>\n",
              "      <td>Stellar Eller</td>\n",
              "      <td>[51, 65]</td>\n",
              "      <td>While I got this card as a \"deal of the day\" o...</td>\n",
              "      <td>5.00000</td>\n",
              "      <td>Awesome Card!</td>\n",
              "      <td>1339200000</td>\n",
              "      <td>2012-09-06</td>\n",
              "      <td>823</td>\n",
              "      <td>51</td>\n",
              "      <td>65</td>\n",
              "      <td>822</td>\n",
              "      <td>14</td>\n",
              "      <td>37</td>\n",
              "      <td>0.78462</td>\n",
              "      <td>0.67033</td>\n",
              "    </tr>\n",
              "    <tr>\n",
              "      <th>4596</th>\n",
              "      <td>A1WTQUOQ4WG9AI</td>\n",
              "      <td>B007WTAJTO</td>\n",
              "      <td>Tom Henriksen \"Doggy Diner\"</td>\n",
              "      <td>[82, 109]</td>\n",
              "      <td>Hi:I ordered two card and they arrived the nex...</td>\n",
              "      <td>1.00000</td>\n",
              "      <td>Designed incompatibility/Don't support SanDisk</td>\n",
              "      <td>1348272000</td>\n",
              "      <td>2012-09-22</td>\n",
              "      <td>807</td>\n",
              "      <td>82</td>\n",
              "      <td>109</td>\n",
              "      <td>806</td>\n",
              "      <td>27</td>\n",
              "      <td>55</td>\n",
              "      <td>0.75229</td>\n",
              "      <td>0.66359</td>\n",
              "    </tr>\n",
              "    <tr>\n",
              "      <th>315</th>\n",
              "      <td>A2J26NNQX6WKAU</td>\n",
              "      <td>B007WTAJTO</td>\n",
              "      <td>Amazon Customer \"johncrea\"</td>\n",
              "      <td>[38, 48]</td>\n",
              "      <td>Bought this card to use with my Samsung Galaxy...</td>\n",
              "      <td>5.00000</td>\n",
              "      <td>Samsung Galaxy Tab2 works with this card if re...</td>\n",
              "      <td>1344816000</td>\n",
              "      <td>2012-08-13</td>\n",
              "      <td>847</td>\n",
              "      <td>38</td>\n",
              "      <td>48</td>\n",
              "      <td>846</td>\n",
              "      <td>10</td>\n",
              "      <td>28</td>\n",
              "      <td>0.79167</td>\n",
              "      <td>0.65741</td>\n",
              "    </tr>\n",
              "    <tr>\n",
              "      <th>1465</th>\n",
              "      <td>A6I8KXYK24RTB</td>\n",
              "      <td>B007WTAJTO</td>\n",
              "      <td>D. Stein</td>\n",
              "      <td>[7, 7]</td>\n",
              "      <td>I for one have not bought into Google's, or an...</td>\n",
              "      <td>4.00000</td>\n",
              "      <td>Finally.</td>\n",
              "      <td>1397433600</td>\n",
              "      <td>2014-04-14</td>\n",
              "      <td>238</td>\n",
              "      <td>7</td>\n",
              "      <td>7</td>\n",
              "      <td>237</td>\n",
              "      <td>0</td>\n",
              "      <td>7</td>\n",
              "      <td>1.00000</td>\n",
              "      <td>0.64567</td>\n",
              "    </tr>\n",
              "    <tr>\n",
              "      <th>1609</th>\n",
              "      <td>A2TPXOZSU1DACQ</td>\n",
              "      <td>B007WTAJTO</td>\n",
              "      <td>Eskimo</td>\n",
              "      <td>[7, 7]</td>\n",
              "      <td>I have always been a sandisk guy.  This cards ...</td>\n",
              "      <td>5.00000</td>\n",
              "      <td>Bet you wish you had one of these</td>\n",
              "      <td>1395792000</td>\n",
              "      <td>2014-03-26</td>\n",
              "      <td>257</td>\n",
              "      <td>7</td>\n",
              "      <td>7</td>\n",
              "      <td>256</td>\n",
              "      <td>0</td>\n",
              "      <td>7</td>\n",
              "      <td>1.00000</td>\n",
              "      <td>0.64567</td>\n",
              "    </tr>\n",
              "    <tr>\n",
              "      <th>4302</th>\n",
              "      <td>A2EL2GWJ9T0DWY</td>\n",
              "      <td>B007WTAJTO</td>\n",
              "      <td>Stayeraug</td>\n",
              "      <td>[14, 16]</td>\n",
              "      <td>So I got this SD specifically for my GoPro Bla...</td>\n",
              "      <td>5.00000</td>\n",
              "      <td>Perfect with GoPro Black 3+</td>\n",
              "      <td>1395360000</td>\n",
              "      <td>2014-03-21</td>\n",
              "      <td>262</td>\n",
              "      <td>14</td>\n",
              "      <td>16</td>\n",
              "      <td>261</td>\n",
              "      <td>2</td>\n",
              "      <td>12</td>\n",
              "      <td>0.87500</td>\n",
              "      <td>0.63977</td>\n",
              "    </tr>\n",
              "    <tr>\n",
              "      <th>4072</th>\n",
              "      <td>A22GOZTFA02O2F</td>\n",
              "      <td>B007WTAJTO</td>\n",
              "      <td>sb21 \"sb21\"</td>\n",
              "      <td>[6, 6]</td>\n",
              "      <td>I used this for my Samsung Galaxy Tab 2 7.0 . ...</td>\n",
              "      <td>5.00000</td>\n",
              "      <td>Used for my Samsung Galaxy Tab 2 7.0</td>\n",
              "      <td>1347321600</td>\n",
              "      <td>2012-11-09</td>\n",
              "      <td>759</td>\n",
              "      <td>6</td>\n",
              "      <td>6</td>\n",
              "      <td>758</td>\n",
              "      <td>0</td>\n",
              "      <td>6</td>\n",
              "      <td>1.00000</td>\n",
              "      <td>0.60967</td>\n",
              "    </tr>\n",
              "    <tr>\n",
              "      <th>1072</th>\n",
              "      <td>A2O96COBMVY9C4</td>\n",
              "      <td>B007WTAJTO</td>\n",
              "      <td>Crysis Complex</td>\n",
              "      <td>[5, 5]</td>\n",
              "      <td>What more can I say? The 64GB micro SD works f...</td>\n",
              "      <td>5.00000</td>\n",
              "      <td>Works wonders for the Galaxy Note 2!</td>\n",
              "      <td>1349395200</td>\n",
              "      <td>2012-05-10</td>\n",
              "      <td>942</td>\n",
              "      <td>5</td>\n",
              "      <td>5</td>\n",
              "      <td>941</td>\n",
              "      <td>0</td>\n",
              "      <td>5</td>\n",
              "      <td>1.00000</td>\n",
              "      <td>0.56552</td>\n",
              "    </tr>\n",
              "    <tr>\n",
              "      <th>2583</th>\n",
              "      <td>A3MEPYZVTAV90W</td>\n",
              "      <td>B007WTAJTO</td>\n",
              "      <td>J. Wong</td>\n",
              "      <td>[5, 5]</td>\n",
              "      <td>I bought this Class 10 SD card for my GoPro 3 ...</td>\n",
              "      <td>5.00000</td>\n",
              "      <td>Works Great with a GoPro 3 Black!</td>\n",
              "      <td>1370649600</td>\n",
              "      <td>2013-08-06</td>\n",
              "      <td>489</td>\n",
              "      <td>5</td>\n",
              "      <td>5</td>\n",
              "      <td>488</td>\n",
              "      <td>0</td>\n",
              "      <td>5</td>\n",
              "      <td>1.00000</td>\n",
              "      <td>0.56552</td>\n",
              "    </tr>\n",
              "    <tr>\n",
              "      <th>121</th>\n",
              "      <td>A2Z4VVF1NTJWPB</td>\n",
              "      <td>B007WTAJTO</td>\n",
              "      <td>A. Lee</td>\n",
              "      <td>[5, 5]</td>\n",
              "      <td>Update: providing an update with regard to San...</td>\n",
              "      <td>5.00000</td>\n",
              "      <td>ready for use on the Galaxy S3</td>\n",
              "      <td>1346803200</td>\n",
              "      <td>2012-05-09</td>\n",
              "      <td>943</td>\n",
              "      <td>5</td>\n",
              "      <td>5</td>\n",
              "      <td>942</td>\n",
              "      <td>0</td>\n",
              "      <td>5</td>\n",
              "      <td>1.00000</td>\n",
              "      <td>0.56552</td>\n",
              "    </tr>\n",
              "    <tr>\n",
              "      <th>1142</th>\n",
              "      <td>A1PLHPPAJ5MUXG</td>\n",
              "      <td>B007WTAJTO</td>\n",
              "      <td>Daniel Pham(Danpham_X @ yahoo.  com)</td>\n",
              "      <td>[5, 5]</td>\n",
              "      <td>As soon as I saw that this card was announced ...</td>\n",
              "      <td>5.00000</td>\n",
              "      <td>Great large capacity card</td>\n",
              "      <td>1396396800</td>\n",
              "      <td>2014-02-04</td>\n",
              "      <td>307</td>\n",
              "      <td>5</td>\n",
              "      <td>5</td>\n",
              "      <td>306</td>\n",
              "      <td>0</td>\n",
              "      <td>5</td>\n",
              "      <td>1.00000</td>\n",
              "      <td>0.56552</td>\n",
              "    </tr>\n",
              "    <tr>\n",
              "      <th>1753</th>\n",
              "      <td>ALPLKR59QMBUX</td>\n",
              "      <td>B007WTAJTO</td>\n",
              "      <td>G. Becker</td>\n",
              "      <td>[5, 5]</td>\n",
              "      <td>Puchased this card right after I received my S...</td>\n",
              "      <td>5.00000</td>\n",
              "      <td>Use Nothing Other Than the Best</td>\n",
              "      <td>1350864000</td>\n",
              "      <td>2012-10-22</td>\n",
              "      <td>777</td>\n",
              "      <td>5</td>\n",
              "      <td>5</td>\n",
              "      <td>776</td>\n",
              "      <td>0</td>\n",
              "      <td>5</td>\n",
              "      <td>1.00000</td>\n",
              "      <td>0.56552</td>\n",
              "    </tr>\n",
              "  </tbody>\n",
              "</table>\n",
              "</div>\n",
              "      <button class=\"colab-df-convert\" onclick=\"convertToInteractive('df-17d3f3e8-5d82-421d-bac6-c05cfa633a8a')\"\n",
              "              title=\"Convert this dataframe to an interactive table.\"\n",
              "              style=\"display:none;\">\n",
              "        \n",
              "  <svg xmlns=\"http://www.w3.org/2000/svg\" height=\"24px\"viewBox=\"0 0 24 24\"\n",
              "       width=\"24px\">\n",
              "    <path d=\"M0 0h24v24H0V0z\" fill=\"none\"/>\n",
              "    <path d=\"M18.56 5.44l.94 2.06.94-2.06 2.06-.94-2.06-.94-.94-2.06-.94 2.06-2.06.94zm-11 1L8.5 8.5l.94-2.06 2.06-.94-2.06-.94L8.5 2.5l-.94 2.06-2.06.94zm10 10l.94 2.06.94-2.06 2.06-.94-2.06-.94-.94-2.06-.94 2.06-2.06.94z\"/><path d=\"M17.41 7.96l-1.37-1.37c-.4-.4-.92-.59-1.43-.59-.52 0-1.04.2-1.43.59L10.3 9.45l-7.72 7.72c-.78.78-.78 2.05 0 2.83L4 21.41c.39.39.9.59 1.41.59.51 0 1.02-.2 1.41-.59l7.78-7.78 2.81-2.81c.8-.78.8-2.07 0-2.86zM5.41 20L4 18.59l7.72-7.72 1.47 1.35L5.41 20z\"/>\n",
              "  </svg>\n",
              "      </button>\n",
              "      \n",
              "  <style>\n",
              "    .colab-df-container {\n",
              "      display:flex;\n",
              "      flex-wrap:wrap;\n",
              "      gap: 12px;\n",
              "    }\n",
              "\n",
              "    .colab-df-convert {\n",
              "      background-color: #E8F0FE;\n",
              "      border: none;\n",
              "      border-radius: 50%;\n",
              "      cursor: pointer;\n",
              "      display: none;\n",
              "      fill: #1967D2;\n",
              "      height: 32px;\n",
              "      padding: 0 0 0 0;\n",
              "      width: 32px;\n",
              "    }\n",
              "\n",
              "    .colab-df-convert:hover {\n",
              "      background-color: #E2EBFA;\n",
              "      box-shadow: 0px 1px 2px rgba(60, 64, 67, 0.3), 0px 1px 3px 1px rgba(60, 64, 67, 0.15);\n",
              "      fill: #174EA6;\n",
              "    }\n",
              "\n",
              "    [theme=dark] .colab-df-convert {\n",
              "      background-color: #3B4455;\n",
              "      fill: #D2E3FC;\n",
              "    }\n",
              "\n",
              "    [theme=dark] .colab-df-convert:hover {\n",
              "      background-color: #434B5C;\n",
              "      box-shadow: 0px 1px 3px 1px rgba(0, 0, 0, 0.15);\n",
              "      filter: drop-shadow(0px 1px 2px rgba(0, 0, 0, 0.3));\n",
              "      fill: #FFFFFF;\n",
              "    }\n",
              "  </style>\n",
              "\n",
              "      <script>\n",
              "        const buttonEl =\n",
              "          document.querySelector('#df-17d3f3e8-5d82-421d-bac6-c05cfa633a8a button.colab-df-convert');\n",
              "        buttonEl.style.display =\n",
              "          google.colab.kernel.accessAllowed ? 'block' : 'none';\n",
              "\n",
              "        async function convertToInteractive(key) {\n",
              "          const element = document.querySelector('#df-17d3f3e8-5d82-421d-bac6-c05cfa633a8a');\n",
              "          const dataTable =\n",
              "            await google.colab.kernel.invokeFunction('convertToInteractive',\n",
              "                                                     [key], {});\n",
              "          if (!dataTable) return;\n",
              "\n",
              "          const docLinkHtml = 'Like what you see? Visit the ' +\n",
              "            '<a target=\"_blank\" href=https://colab.research.google.com/notebooks/data_table.ipynb>data table notebook</a>'\n",
              "            + ' to learn more about interactive tables.';\n",
              "          element.innerHTML = '';\n",
              "          dataTable['output_type'] = 'display_data';\n",
              "          await google.colab.output.renderOutput(dataTable, element);\n",
              "          const docLink = document.createElement('div');\n",
              "          docLink.innerHTML = docLinkHtml;\n",
              "          element.appendChild(docLink);\n",
              "        }\n",
              "      </script>\n",
              "    </div>\n",
              "  </div>\n",
              "  "
            ]
          },
          "metadata": {},
          "execution_count": 26
        }
      ]
    }
  ]
}